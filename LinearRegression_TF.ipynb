{
 "cells": [
  {
   "cell_type": "markdown",
   "id": "c76763c5",
   "metadata": {},
   "source": [
    "# Regression algorithm\n",
    "\n",
    "In this project, a regression algorithm is used to try predict the cost of medical insurance for individuals based on a number of different parameters such as, `age`, `sex`, `bmi`, `children`, `smoking_status` and `residential_region`.\n",
    "\n",
    "To do, we'll leverage the pubically available Medical Cost dataset available from Kaggle."
   ]
  },
  {
   "cell_type": "code",
   "execution_count": 24,
   "id": "ce9ee035",
   "metadata": {},
   "outputs": [
    {
     "name": "stdout",
     "output_type": "stream",
     "text": [
      "2.9.1\n"
     ]
    }
   ],
   "source": [
    "# Import required libraries\n",
    "import tensorflow as tf\n",
    "import numpy as np\n",
    "import matplotlib.pyplot as plt\n",
    "import pandas as pd\n",
    "print(tf.__version__)"
   ]
  },
  {
   "cell_type": "code",
   "execution_count": 25,
   "id": "f853721a",
   "metadata": {},
   "outputs": [],
   "source": [
    "# Read in the insurance dataset\n",
    "insurance = pd.read_csv(\"https://raw.githubusercontent.com/stedy/Machine-Learning-with-R-datasets/master/insurance.csv\")"
   ]
  },
  {
   "cell_type": "code",
   "execution_count": 26,
   "id": "320d2476",
   "metadata": {},
   "outputs": [
    {
     "data": {
      "text/html": [
       "<div>\n",
       "<style scoped>\n",
       "    .dataframe tbody tr th:only-of-type {\n",
       "        vertical-align: middle;\n",
       "    }\n",
       "\n",
       "    .dataframe tbody tr th {\n",
       "        vertical-align: top;\n",
       "    }\n",
       "\n",
       "    .dataframe thead th {\n",
       "        text-align: right;\n",
       "    }\n",
       "</style>\n",
       "<table border=\"1\" class=\"dataframe\">\n",
       "  <thead>\n",
       "    <tr style=\"text-align: right;\">\n",
       "      <th></th>\n",
       "      <th>age</th>\n",
       "      <th>sex</th>\n",
       "      <th>bmi</th>\n",
       "      <th>children</th>\n",
       "      <th>smoker</th>\n",
       "      <th>region</th>\n",
       "      <th>charges</th>\n",
       "    </tr>\n",
       "  </thead>\n",
       "  <tbody>\n",
       "    <tr>\n",
       "      <th>0</th>\n",
       "      <td>19</td>\n",
       "      <td>female</td>\n",
       "      <td>27.900</td>\n",
       "      <td>0</td>\n",
       "      <td>yes</td>\n",
       "      <td>southwest</td>\n",
       "      <td>16884.92400</td>\n",
       "    </tr>\n",
       "    <tr>\n",
       "      <th>1</th>\n",
       "      <td>18</td>\n",
       "      <td>male</td>\n",
       "      <td>33.770</td>\n",
       "      <td>1</td>\n",
       "      <td>no</td>\n",
       "      <td>southeast</td>\n",
       "      <td>1725.55230</td>\n",
       "    </tr>\n",
       "    <tr>\n",
       "      <th>2</th>\n",
       "      <td>28</td>\n",
       "      <td>male</td>\n",
       "      <td>33.000</td>\n",
       "      <td>3</td>\n",
       "      <td>no</td>\n",
       "      <td>southeast</td>\n",
       "      <td>4449.46200</td>\n",
       "    </tr>\n",
       "    <tr>\n",
       "      <th>3</th>\n",
       "      <td>33</td>\n",
       "      <td>male</td>\n",
       "      <td>22.705</td>\n",
       "      <td>0</td>\n",
       "      <td>no</td>\n",
       "      <td>northwest</td>\n",
       "      <td>21984.47061</td>\n",
       "    </tr>\n",
       "    <tr>\n",
       "      <th>4</th>\n",
       "      <td>32</td>\n",
       "      <td>male</td>\n",
       "      <td>28.880</td>\n",
       "      <td>0</td>\n",
       "      <td>no</td>\n",
       "      <td>northwest</td>\n",
       "      <td>3866.85520</td>\n",
       "    </tr>\n",
       "  </tbody>\n",
       "</table>\n",
       "</div>"
      ],
      "text/plain": [
       "   age     sex     bmi  children smoker     region      charges\n",
       "0   19  female  27.900         0    yes  southwest  16884.92400\n",
       "1   18    male  33.770         1     no  southeast   1725.55230\n",
       "2   28    male  33.000         3     no  southeast   4449.46200\n",
       "3   33    male  22.705         0     no  northwest  21984.47061\n",
       "4   32    male  28.880         0     no  northwest   3866.85520"
      ]
     },
     "execution_count": 26,
     "metadata": {},
     "output_type": "execute_result"
    }
   ],
   "source": [
    "# Check out the insurance dataset\n",
    "insurance.head()"
   ]
  },
  {
   "cell_type": "markdown",
   "id": "91d4aae5",
   "metadata": {},
   "source": [
    "We're going to have to turn the non-numerical columns into numbers (because a neural network can't handle non-numerical inputs).\n",
    "\n",
    "To do so, we'll use the `get_dummies()` method in pandas."
   ]
  },
  {
   "cell_type": "code",
   "execution_count": 27,
   "id": "6f661578",
   "metadata": {},
   "outputs": [
    {
     "data": {
      "text/html": [
       "<div>\n",
       "<style scoped>\n",
       "    .dataframe tbody tr th:only-of-type {\n",
       "        vertical-align: middle;\n",
       "    }\n",
       "\n",
       "    .dataframe tbody tr th {\n",
       "        vertical-align: top;\n",
       "    }\n",
       "\n",
       "    .dataframe thead th {\n",
       "        text-align: right;\n",
       "    }\n",
       "</style>\n",
       "<table border=\"1\" class=\"dataframe\">\n",
       "  <thead>\n",
       "    <tr style=\"text-align: right;\">\n",
       "      <th></th>\n",
       "      <th>age</th>\n",
       "      <th>bmi</th>\n",
       "      <th>children</th>\n",
       "      <th>charges</th>\n",
       "      <th>sex_female</th>\n",
       "      <th>sex_male</th>\n",
       "      <th>smoker_no</th>\n",
       "      <th>smoker_yes</th>\n",
       "      <th>region_northeast</th>\n",
       "      <th>region_northwest</th>\n",
       "      <th>region_southeast</th>\n",
       "      <th>region_southwest</th>\n",
       "    </tr>\n",
       "  </thead>\n",
       "  <tbody>\n",
       "    <tr>\n",
       "      <th>0</th>\n",
       "      <td>19</td>\n",
       "      <td>27.900</td>\n",
       "      <td>0</td>\n",
       "      <td>16884.92400</td>\n",
       "      <td>1</td>\n",
       "      <td>0</td>\n",
       "      <td>0</td>\n",
       "      <td>1</td>\n",
       "      <td>0</td>\n",
       "      <td>0</td>\n",
       "      <td>0</td>\n",
       "      <td>1</td>\n",
       "    </tr>\n",
       "    <tr>\n",
       "      <th>1</th>\n",
       "      <td>18</td>\n",
       "      <td>33.770</td>\n",
       "      <td>1</td>\n",
       "      <td>1725.55230</td>\n",
       "      <td>0</td>\n",
       "      <td>1</td>\n",
       "      <td>1</td>\n",
       "      <td>0</td>\n",
       "      <td>0</td>\n",
       "      <td>0</td>\n",
       "      <td>1</td>\n",
       "      <td>0</td>\n",
       "    </tr>\n",
       "    <tr>\n",
       "      <th>2</th>\n",
       "      <td>28</td>\n",
       "      <td>33.000</td>\n",
       "      <td>3</td>\n",
       "      <td>4449.46200</td>\n",
       "      <td>0</td>\n",
       "      <td>1</td>\n",
       "      <td>1</td>\n",
       "      <td>0</td>\n",
       "      <td>0</td>\n",
       "      <td>0</td>\n",
       "      <td>1</td>\n",
       "      <td>0</td>\n",
       "    </tr>\n",
       "    <tr>\n",
       "      <th>3</th>\n",
       "      <td>33</td>\n",
       "      <td>22.705</td>\n",
       "      <td>0</td>\n",
       "      <td>21984.47061</td>\n",
       "      <td>0</td>\n",
       "      <td>1</td>\n",
       "      <td>1</td>\n",
       "      <td>0</td>\n",
       "      <td>0</td>\n",
       "      <td>1</td>\n",
       "      <td>0</td>\n",
       "      <td>0</td>\n",
       "    </tr>\n",
       "    <tr>\n",
       "      <th>4</th>\n",
       "      <td>32</td>\n",
       "      <td>28.880</td>\n",
       "      <td>0</td>\n",
       "      <td>3866.85520</td>\n",
       "      <td>0</td>\n",
       "      <td>1</td>\n",
       "      <td>1</td>\n",
       "      <td>0</td>\n",
       "      <td>0</td>\n",
       "      <td>1</td>\n",
       "      <td>0</td>\n",
       "      <td>0</td>\n",
       "    </tr>\n",
       "  </tbody>\n",
       "</table>\n",
       "</div>"
      ],
      "text/plain": [
       "   age     bmi  children      charges  sex_female  sex_male  smoker_no  \\\n",
       "0   19  27.900         0  16884.92400           1         0          0   \n",
       "1   18  33.770         1   1725.55230           0         1          1   \n",
       "2   28  33.000         3   4449.46200           0         1          1   \n",
       "3   33  22.705         0  21984.47061           0         1          1   \n",
       "4   32  28.880         0   3866.85520           0         1          1   \n",
       "\n",
       "   smoker_yes  region_northeast  region_northwest  region_southeast  \\\n",
       "0           1                 0                 0                 0   \n",
       "1           0                 0                 0                 1   \n",
       "2           0                 0                 0                 1   \n",
       "3           0                 0                 1                 0   \n",
       "4           0                 0                 1                 0   \n",
       "\n",
       "   region_southwest  \n",
       "0                 1  \n",
       "1                 0  \n",
       "2                 0  \n",
       "3                 0  \n",
       "4                 0  "
      ]
     },
     "execution_count": 27,
     "metadata": {},
     "output_type": "execute_result"
    }
   ],
   "source": [
    "# Turn all categories into numbers\n",
    "insurance_one_hot = pd.get_dummies(insurance)\n",
    "insurance_one_hot.head()"
   ]
  },
  {
   "cell_type": "markdown",
   "id": "b7826be5",
   "metadata": {},
   "source": [
    "Now we'll split data into features (X) and labels (y)."
   ]
  },
  {
   "cell_type": "code",
   "execution_count": 28,
   "id": "e6d243b4",
   "metadata": {},
   "outputs": [
    {
     "data": {
      "text/html": [
       "<div>\n",
       "<style scoped>\n",
       "    .dataframe tbody tr th:only-of-type {\n",
       "        vertical-align: middle;\n",
       "    }\n",
       "\n",
       "    .dataframe tbody tr th {\n",
       "        vertical-align: top;\n",
       "    }\n",
       "\n",
       "    .dataframe thead th {\n",
       "        text-align: right;\n",
       "    }\n",
       "</style>\n",
       "<table border=\"1\" class=\"dataframe\">\n",
       "  <thead>\n",
       "    <tr style=\"text-align: right;\">\n",
       "      <th></th>\n",
       "      <th>age</th>\n",
       "      <th>bmi</th>\n",
       "      <th>children</th>\n",
       "      <th>sex_female</th>\n",
       "      <th>sex_male</th>\n",
       "      <th>smoker_no</th>\n",
       "      <th>smoker_yes</th>\n",
       "      <th>region_northeast</th>\n",
       "      <th>region_northwest</th>\n",
       "      <th>region_southeast</th>\n",
       "      <th>region_southwest</th>\n",
       "    </tr>\n",
       "  </thead>\n",
       "  <tbody>\n",
       "    <tr>\n",
       "      <th>0</th>\n",
       "      <td>19</td>\n",
       "      <td>27.900</td>\n",
       "      <td>0</td>\n",
       "      <td>1</td>\n",
       "      <td>0</td>\n",
       "      <td>0</td>\n",
       "      <td>1</td>\n",
       "      <td>0</td>\n",
       "      <td>0</td>\n",
       "      <td>0</td>\n",
       "      <td>1</td>\n",
       "    </tr>\n",
       "    <tr>\n",
       "      <th>1</th>\n",
       "      <td>18</td>\n",
       "      <td>33.770</td>\n",
       "      <td>1</td>\n",
       "      <td>0</td>\n",
       "      <td>1</td>\n",
       "      <td>1</td>\n",
       "      <td>0</td>\n",
       "      <td>0</td>\n",
       "      <td>0</td>\n",
       "      <td>1</td>\n",
       "      <td>0</td>\n",
       "    </tr>\n",
       "    <tr>\n",
       "      <th>2</th>\n",
       "      <td>28</td>\n",
       "      <td>33.000</td>\n",
       "      <td>3</td>\n",
       "      <td>0</td>\n",
       "      <td>1</td>\n",
       "      <td>1</td>\n",
       "      <td>0</td>\n",
       "      <td>0</td>\n",
       "      <td>0</td>\n",
       "      <td>1</td>\n",
       "      <td>0</td>\n",
       "    </tr>\n",
       "    <tr>\n",
       "      <th>3</th>\n",
       "      <td>33</td>\n",
       "      <td>22.705</td>\n",
       "      <td>0</td>\n",
       "      <td>0</td>\n",
       "      <td>1</td>\n",
       "      <td>1</td>\n",
       "      <td>0</td>\n",
       "      <td>0</td>\n",
       "      <td>1</td>\n",
       "      <td>0</td>\n",
       "      <td>0</td>\n",
       "    </tr>\n",
       "    <tr>\n",
       "      <th>4</th>\n",
       "      <td>32</td>\n",
       "      <td>28.880</td>\n",
       "      <td>0</td>\n",
       "      <td>0</td>\n",
       "      <td>1</td>\n",
       "      <td>1</td>\n",
       "      <td>0</td>\n",
       "      <td>0</td>\n",
       "      <td>1</td>\n",
       "      <td>0</td>\n",
       "      <td>0</td>\n",
       "    </tr>\n",
       "  </tbody>\n",
       "</table>\n",
       "</div>"
      ],
      "text/plain": [
       "   age     bmi  children  sex_female  sex_male  smoker_no  smoker_yes  \\\n",
       "0   19  27.900         0           1         0          0           1   \n",
       "1   18  33.770         1           0         1          1           0   \n",
       "2   28  33.000         3           0         1          1           0   \n",
       "3   33  22.705         0           0         1          1           0   \n",
       "4   32  28.880         0           0         1          1           0   \n",
       "\n",
       "   region_northeast  region_northwest  region_southeast  region_southwest  \n",
       "0                 0                 0                 0                 1  \n",
       "1                 0                 0                 1                 0  \n",
       "2                 0                 0                 1                 0  \n",
       "3                 0                 1                 0                 0  \n",
       "4                 0                 1                 0                 0  "
      ]
     },
     "execution_count": 28,
     "metadata": {},
     "output_type": "execute_result"
    }
   ],
   "source": [
    "# Create X & y values\n",
    "X = insurance_one_hot.drop(\"charges\",axis=1)\n",
    "y = insurance_one_hot[\"charges\"]\n",
    "\n",
    "# View features\n",
    "X.head()"
   ]
  },
  {
   "cell_type": "code",
   "execution_count": 29,
   "id": "e18fba40",
   "metadata": {},
   "outputs": [
    {
     "data": {
      "text/plain": [
       "0       16884.92400\n",
       "1        1725.55230\n",
       "2        4449.46200\n",
       "3       21984.47061\n",
       "4        3866.85520\n",
       "           ...     \n",
       "1333    10600.54830\n",
       "1334     2205.98080\n",
       "1335     1629.83350\n",
       "1336     2007.94500\n",
       "1337    29141.36030\n",
       "Name: charges, Length: 1338, dtype: float64"
      ]
     },
     "execution_count": 29,
     "metadata": {},
     "output_type": "execute_result"
    }
   ],
   "source": [
    "y"
   ]
  },
  {
   "cell_type": "markdown",
   "id": "df4ed534",
   "metadata": {},
   "source": [
    "### Splitting data into train and test datasets"
   ]
  },
  {
   "cell_type": "code",
   "execution_count": 30,
   "id": "2505ef84",
   "metadata": {},
   "outputs": [
    {
     "data": {
      "text/plain": [
       "(1338, 1070, 268)"
      ]
     },
     "execution_count": 30,
     "metadata": {},
     "output_type": "execute_result"
    }
   ],
   "source": [
    "from sklearn.model_selection import train_test_split\n",
    "X_train, X_test, y_train, y_test = train_test_split(X,y,test_size=0.2,random_state=42)\n",
    "len(X),len(X_train),len(X_test)"
   ]
  },
  {
   "cell_type": "markdown",
   "id": "b69259c7",
   "metadata": {},
   "source": [
    "### Constructing the model"
   ]
  },
  {
   "cell_type": "code",
   "execution_count": 31,
   "id": "9ac1ca0c",
   "metadata": {},
   "outputs": [
    {
     "name": "stdout",
     "output_type": "stream",
     "text": [
      "Epoch 1/100\n",
      "34/34 [==============================] - 0s 1ms/step - loss: 8868.5918 - mae: 8868.5918\n",
      "Epoch 2/100\n",
      "34/34 [==============================] - 0s 1ms/step - loss: 7887.1606 - mae: 7887.1606\n",
      "Epoch 3/100\n",
      "34/34 [==============================] - 0s 1ms/step - loss: 7537.0942 - mae: 7537.0942\n",
      "Epoch 4/100\n",
      "34/34 [==============================] - 0s 1ms/step - loss: 7859.4346 - mae: 7859.4346\n",
      "Epoch 5/100\n",
      "34/34 [==============================] - 0s 1ms/step - loss: 7639.6699 - mae: 7639.6699\n",
      "Epoch 6/100\n",
      "34/34 [==============================] - 0s 1ms/step - loss: 7578.0850 - mae: 7578.0850\n",
      "Epoch 7/100\n",
      "34/34 [==============================] - 0s 1ms/step - loss: 7514.6177 - mae: 7514.6177\n",
      "Epoch 8/100\n",
      "34/34 [==============================] - 0s 1ms/step - loss: 7694.1343 - mae: 7694.1343\n",
      "Epoch 9/100\n",
      "34/34 [==============================] - 0s 1ms/step - loss: 7595.9141 - mae: 7595.9141\n",
      "Epoch 10/100\n",
      "34/34 [==============================] - 0s 1ms/step - loss: 7735.9126 - mae: 7735.9126\n",
      "Epoch 11/100\n",
      "34/34 [==============================] - 0s 1ms/step - loss: 7444.4194 - mae: 7444.4194\n",
      "Epoch 12/100\n",
      "34/34 [==============================] - 0s 1ms/step - loss: 7678.0332 - mae: 7678.0332\n",
      "Epoch 13/100\n",
      "34/34 [==============================] - 0s 1ms/step - loss: 7681.5850 - mae: 7681.5850\n",
      "Epoch 14/100\n",
      "34/34 [==============================] - 0s 1ms/step - loss: 7702.2866 - mae: 7702.2866\n",
      "Epoch 15/100\n",
      "34/34 [==============================] - 0s 1ms/step - loss: 7585.8950 - mae: 7585.8950\n",
      "Epoch 16/100\n",
      "34/34 [==============================] - 0s 1ms/step - loss: 7689.5396 - mae: 7689.5396\n",
      "Epoch 17/100\n",
      "34/34 [==============================] - 0s 1ms/step - loss: 7509.2061 - mae: 7509.2061\n",
      "Epoch 18/100\n",
      "34/34 [==============================] - 0s 1ms/step - loss: 7695.0103 - mae: 7695.0103\n",
      "Epoch 19/100\n",
      "34/34 [==============================] - 0s 1ms/step - loss: 7669.3755 - mae: 7669.3755\n",
      "Epoch 20/100\n",
      "34/34 [==============================] - 0s 1ms/step - loss: 7901.1372 - mae: 7901.1372\n",
      "Epoch 21/100\n",
      "34/34 [==============================] - 0s 1ms/step - loss: 7552.4844 - mae: 7552.4844\n",
      "Epoch 22/100\n",
      "34/34 [==============================] - 0s 1ms/step - loss: 7844.9980 - mae: 7844.9980\n",
      "Epoch 23/100\n",
      "34/34 [==============================] - 0s 1ms/step - loss: 7642.2515 - mae: 7642.2515\n",
      "Epoch 24/100\n",
      "34/34 [==============================] - 0s 1ms/step - loss: 7515.3101 - mae: 7515.3101\n",
      "Epoch 25/100\n",
      "34/34 [==============================] - 0s 1ms/step - loss: 7678.3530 - mae: 7678.3530\n",
      "Epoch 26/100\n",
      "34/34 [==============================] - 0s 1ms/step - loss: 7653.0293 - mae: 7653.0293\n",
      "Epoch 27/100\n",
      "34/34 [==============================] - 0s 1ms/step - loss: 7559.5474 - mae: 7559.5474\n",
      "Epoch 28/100\n",
      "34/34 [==============================] - 0s 1ms/step - loss: 7459.9419 - mae: 7459.9419\n",
      "Epoch 29/100\n",
      "34/34 [==============================] - 0s 1ms/step - loss: 7618.6201 - mae: 7618.6201\n",
      "Epoch 30/100\n",
      "34/34 [==============================] - 0s 987us/step - loss: 7628.6255 - mae: 7628.6255\n",
      "Epoch 31/100\n",
      "34/34 [==============================] - 0s 1ms/step - loss: 7540.4922 - mae: 7540.4922\n",
      "Epoch 32/100\n",
      "34/34 [==============================] - 0s 1ms/step - loss: 7486.0186 - mae: 7486.0186\n",
      "Epoch 33/100\n",
      "34/34 [==============================] - 0s 1ms/step - loss: 7418.6636 - mae: 7418.6636\n",
      "Epoch 34/100\n",
      "34/34 [==============================] - 0s 1ms/step - loss: 7480.7334 - mae: 7480.7334\n",
      "Epoch 35/100\n",
      "34/34 [==============================] - 0s 1ms/step - loss: 7615.3125 - mae: 7615.3125\n",
      "Epoch 36/100\n",
      "34/34 [==============================] - 0s 1ms/step - loss: 7566.7925 - mae: 7566.7925\n",
      "Epoch 37/100\n",
      "34/34 [==============================] - 0s 1ms/step - loss: 7661.0903 - mae: 7661.0903\n",
      "Epoch 38/100\n",
      "34/34 [==============================] - 0s 998us/step - loss: 7522.6846 - mae: 7522.6846\n",
      "Epoch 39/100\n",
      "34/34 [==============================] - 0s 1ms/step - loss: 7556.0703 - mae: 7556.0703\n",
      "Epoch 40/100\n",
      "34/34 [==============================] - 0s 1ms/step - loss: 7433.5688 - mae: 7433.5688\n",
      "Epoch 41/100\n",
      "34/34 [==============================] - 0s 1ms/step - loss: 7722.4346 - mae: 7722.4346\n",
      "Epoch 42/100\n",
      "34/34 [==============================] - 0s 1ms/step - loss: 7344.2710 - mae: 7344.2710\n",
      "Epoch 43/100\n",
      "34/34 [==============================] - 0s 1ms/step - loss: 7597.4341 - mae: 7597.4341\n",
      "Epoch 44/100\n",
      "34/34 [==============================] - 0s 1ms/step - loss: 7338.0137 - mae: 7338.0137\n",
      "Epoch 45/100\n",
      "34/34 [==============================] - 0s 1ms/step - loss: 7510.3472 - mae: 7510.3472\n",
      "Epoch 46/100\n",
      "34/34 [==============================] - 0s 1ms/step - loss: 7413.5815 - mae: 7413.5815\n",
      "Epoch 47/100\n",
      "34/34 [==============================] - 0s 1ms/step - loss: 7451.0391 - mae: 7451.0391\n",
      "Epoch 48/100\n",
      "34/34 [==============================] - 0s 1ms/step - loss: 7340.5396 - mae: 7340.5396\n",
      "Epoch 49/100\n",
      "34/34 [==============================] - 0s 1ms/step - loss: 7481.9990 - mae: 7481.9990\n",
      "Epoch 50/100\n",
      "34/34 [==============================] - 0s 1ms/step - loss: 7468.2852 - mae: 7468.2852\n",
      "Epoch 51/100\n",
      "34/34 [==============================] - 0s 1ms/step - loss: 7411.3413 - mae: 7411.3413\n",
      "Epoch 52/100\n",
      "34/34 [==============================] - 0s 1ms/step - loss: 7460.0801 - mae: 7460.0801\n",
      "Epoch 53/100\n",
      "34/34 [==============================] - 0s 1ms/step - loss: 7601.6611 - mae: 7601.6611\n",
      "Epoch 54/100\n",
      "34/34 [==============================] - 0s 1ms/step - loss: 7241.2549 - mae: 7241.2549\n",
      "Epoch 55/100\n",
      "34/34 [==============================] - 0s 1ms/step - loss: 7539.6968 - mae: 7539.6968\n",
      "Epoch 56/100\n",
      "34/34 [==============================] - 0s 1ms/step - loss: 7293.2012 - mae: 7293.2012\n",
      "Epoch 57/100\n",
      "34/34 [==============================] - 0s 1ms/step - loss: 7417.9727 - mae: 7417.9727\n",
      "Epoch 58/100\n",
      "34/34 [==============================] - 0s 1ms/step - loss: 7353.0615 - mae: 7353.0615\n",
      "Epoch 59/100\n",
      "34/34 [==============================] - 0s 1ms/step - loss: 7643.8252 - mae: 7643.8252\n",
      "Epoch 60/100\n",
      "34/34 [==============================] - 0s 1ms/step - loss: 7410.4004 - mae: 7410.4004\n",
      "Epoch 61/100\n",
      "34/34 [==============================] - 0s 1ms/step - loss: 7612.8345 - mae: 7612.8345\n",
      "Epoch 62/100\n",
      "34/34 [==============================] - 0s 1ms/step - loss: 7387.9092 - mae: 7387.9092\n",
      "Epoch 63/100\n",
      "34/34 [==============================] - 0s 1ms/step - loss: 7359.5615 - mae: 7359.5615\n",
      "Epoch 64/100\n",
      "34/34 [==============================] - 0s 1ms/step - loss: 7109.0889 - mae: 7109.0889\n",
      "Epoch 65/100\n",
      "34/34 [==============================] - 0s 1ms/step - loss: 7396.3228 - mae: 7396.3228\n",
      "Epoch 66/100\n",
      "34/34 [==============================] - 0s 1ms/step - loss: 7179.8618 - mae: 7179.8618\n",
      "Epoch 67/100\n",
      "34/34 [==============================] - 0s 1ms/step - loss: 7289.7729 - mae: 7289.7729\n",
      "Epoch 68/100\n",
      "34/34 [==============================] - 0s 2ms/step - loss: 7523.6987 - mae: 7523.6987\n",
      "Epoch 69/100\n",
      "34/34 [==============================] - 0s 1ms/step - loss: 7442.6172 - mae: 7442.6172\n",
      "Epoch 70/100\n",
      "34/34 [==============================] - 0s 1ms/step - loss: 7673.4849 - mae: 7673.4849\n",
      "Epoch 71/100\n",
      "34/34 [==============================] - 0s 1ms/step - loss: 7276.0332 - mae: 7276.0332\n",
      "Epoch 72/100\n",
      "34/34 [==============================] - 0s 1ms/step - loss: 7246.3726 - mae: 7246.3726\n",
      "Epoch 73/100\n",
      "34/34 [==============================] - 0s 1ms/step - loss: 7372.0728 - mae: 7372.0728\n",
      "Epoch 74/100\n",
      "34/34 [==============================] - 0s 1ms/step - loss: 7512.0762 - mae: 7512.0762\n",
      "Epoch 75/100\n",
      "34/34 [==============================] - 0s 971us/step - loss: 7269.7446 - mae: 7269.7446\n",
      "Epoch 76/100\n",
      "34/34 [==============================] - 0s 963us/step - loss: 7199.5059 - mae: 7199.5059\n",
      "Epoch 77/100\n",
      "34/34 [==============================] - 0s 1ms/step - loss: 7261.2935 - mae: 7261.2935\n",
      "Epoch 78/100\n",
      "34/34 [==============================] - 0s 903us/step - loss: 7185.7646 - mae: 7185.7646\n",
      "Epoch 79/100\n",
      "34/34 [==============================] - 0s 974us/step - loss: 7301.7500 - mae: 7301.7500\n",
      "Epoch 80/100\n",
      "34/34 [==============================] - 0s 1ms/step - loss: 7002.6313 - mae: 7002.6313\n",
      "Epoch 81/100\n",
      "34/34 [==============================] - 0s 1ms/step - loss: 7289.1367 - mae: 7289.1367\n",
      "Epoch 82/100\n"
     ]
    },
    {
     "name": "stdout",
     "output_type": "stream",
     "text": [
      "34/34 [==============================] - 0s 1ms/step - loss: 7155.3960 - mae: 7155.3960\n",
      "Epoch 83/100\n",
      "34/34 [==============================] - 0s 1ms/step - loss: 7475.1719 - mae: 7475.1719\n",
      "Epoch 84/100\n",
      "34/34 [==============================] - 0s 971us/step - loss: 7387.3687 - mae: 7387.3687\n",
      "Epoch 85/100\n",
      "34/34 [==============================] - 0s 929us/step - loss: 7289.9468 - mae: 7289.9468\n",
      "Epoch 86/100\n",
      "34/34 [==============================] - 0s 884us/step - loss: 7268.0957 - mae: 7268.0957\n",
      "Epoch 87/100\n",
      "34/34 [==============================] - 0s 873us/step - loss: 7238.5889 - mae: 7238.5889\n",
      "Epoch 88/100\n",
      "34/34 [==============================] - 0s 848us/step - loss: 7201.7363 - mae: 7201.7363\n",
      "Epoch 89/100\n",
      "34/34 [==============================] - 0s 875us/step - loss: 7538.0771 - mae: 7538.0771\n",
      "Epoch 90/100\n",
      "34/34 [==============================] - 0s 835us/step - loss: 6967.1187 - mae: 6967.1187\n",
      "Epoch 91/100\n",
      "34/34 [==============================] - 0s 824us/step - loss: 7314.1309 - mae: 7314.1309\n",
      "Epoch 92/100\n",
      "34/34 [==============================] - 0s 995us/step - loss: 7192.3140 - mae: 7192.3140\n",
      "Epoch 93/100\n",
      "34/34 [==============================] - 0s 871us/step - loss: 7530.8784 - mae: 7530.8784\n",
      "Epoch 94/100\n",
      "34/34 [==============================] - 0s 854us/step - loss: 7187.3594 - mae: 7187.3594\n",
      "Epoch 95/100\n",
      "34/34 [==============================] - 0s 926us/step - loss: 7561.5645 - mae: 7561.5645\n",
      "Epoch 96/100\n",
      "34/34 [==============================] - 0s 930us/step - loss: 7263.4644 - mae: 7263.4644\n",
      "Epoch 97/100\n",
      "34/34 [==============================] - 0s 828us/step - loss: 7146.2905 - mae: 7146.2905\n",
      "Epoch 98/100\n",
      "34/34 [==============================] - 0s 946us/step - loss: 7247.9253 - mae: 7247.9253\n",
      "Epoch 99/100\n",
      "34/34 [==============================] - 0s 1ms/step - loss: 7200.6699 - mae: 7200.6699\n",
      "Epoch 100/100\n",
      "34/34 [==============================] - 0s 962us/step - loss: 7301.6880 - mae: 7301.6880\n"
     ]
    }
   ],
   "source": [
    "# Set random seed\n",
    "tf.random.set_seed(42)\n",
    "\n",
    "# Create a new model (same as model_2)\n",
    "insurance_model = tf.keras.Sequential([\n",
    "  tf.keras.layers.Dense(1),\n",
    "  tf.keras.layers.Dense(1)\n",
    "])\n",
    "\n",
    "# Compile the model\n",
    "insurance_model.compile(loss=tf.keras.losses.mae,\n",
    "                        optimizer=tf.keras.optimizers.SGD(),\n",
    "                        metrics=['mae'])\n",
    "\n",
    "# Fit the model\n",
    "history = insurance_model.fit(X_train, y_train, epochs=100)"
   ]
  },
  {
   "cell_type": "code",
   "execution_count": 32,
   "id": "ec4f60bf",
   "metadata": {},
   "outputs": [
    {
     "name": "stdout",
     "output_type": "stream",
     "text": [
      "9/9 [==============================] - 0s 1ms/step - loss: 8628.2520 - mae: 8628.2520\n"
     ]
    },
    {
     "data": {
      "text/plain": [
       "[8628.251953125, 8628.251953125]"
      ]
     },
     "execution_count": 32,
     "metadata": {},
     "output_type": "execute_result"
    }
   ],
   "source": [
    "# Check the results of the insurance model\n",
    "insurance_model.evaluate(X_test,y_test)"
   ]
  },
  {
   "cell_type": "markdown",
   "id": "a154fe6e",
   "metadata": {},
   "source": [
    "The model didn't perform very well, let's try to improve it."
   ]
  },
  {
   "cell_type": "code",
   "execution_count": 33,
   "id": "a27073e3",
   "metadata": {},
   "outputs": [
    {
     "data": {
      "image/png": "[encoded data removed]",
      "text/plain": [
       "<Figure size 432x288 with 1 Axes>"
      ]
     },
     "metadata": {
      "needs_background": "light"
     },
     "output_type": "display_data"
    }
   ],
   "source": [
    "pd.DataFrame(history.history).plot()\n",
    "plt.ylabel(\"loss\")\n",
    "plt.xlabel(\"epochs\");"
   ]
  },
  {
   "cell_type": "markdown",
   "id": "27803e6f",
   "metadata": {},
   "source": [
    "### Looking at some of the variables"
   ]
  },
  {
   "cell_type": "code",
   "execution_count": 34,
   "id": "63396eda",
   "metadata": {},
   "outputs": [
    {
     "data": {
      "text/plain": [
       "<AxesSubplot:ylabel='Frequency'>"
      ]
     },
     "execution_count": 34,
     "metadata": {},
     "output_type": "execute_result"
    },
    {
     "data": {
      "image/png": "[encoded data removed]",
      "text/plain": [
       "<Figure size 432x288 with 1 Axes>"
      ]
     },
     "metadata": {
      "needs_background": "light"
     },
     "output_type": "display_data"
    }
   ],
   "source": [
    "X[\"age\"].plot(kind=\"hist\")"
   ]
  },
  {
   "cell_type": "code",
   "execution_count": 35,
   "id": "732a4b6d",
   "metadata": {},
   "outputs": [
    {
     "data": {
      "text/plain": [
       "<AxesSubplot:ylabel='Frequency'>"
      ]
     },
     "execution_count": 35,
     "metadata": {},
     "output_type": "execute_result"
    },
    {
     "data": {
      "image/png": "[encoded data removed]",
      "text/plain": [
       "<Figure size 432x288 with 1 Axes>"
      ]
     },
     "metadata": {
      "needs_background": "light"
     },
     "output_type": "display_data"
    }
   ],
   "source": [
    "X[\"bmi\"].plot(kind=\"hist\")"
   ]
  },
  {
   "cell_type": "markdown",
   "id": "bddcfb47",
   "metadata": {},
   "source": [
    "The variables have different ranges, let's fix that!"
   ]
  },
  {
   "cell_type": "code",
   "execution_count": 36,
   "id": "a9b0ea0a",
   "metadata": {},
   "outputs": [
    {
     "data": {
      "text/html": [
       "<div>\n",
       "<style scoped>\n",
       "    .dataframe tbody tr th:only-of-type {\n",
       "        vertical-align: middle;\n",
       "    }\n",
       "\n",
       "    .dataframe tbody tr th {\n",
       "        vertical-align: top;\n",
       "    }\n",
       "\n",
       "    .dataframe thead th {\n",
       "        text-align: right;\n",
       "    }\n",
       "</style>\n",
       "<table border=\"1\" class=\"dataframe\">\n",
       "  <thead>\n",
       "    <tr style=\"text-align: right;\">\n",
       "      <th></th>\n",
       "      <th>age</th>\n",
       "      <th>sex</th>\n",
       "      <th>bmi</th>\n",
       "      <th>children</th>\n",
       "      <th>smoker</th>\n",
       "      <th>region</th>\n",
       "      <th>charges</th>\n",
       "    </tr>\n",
       "  </thead>\n",
       "  <tbody>\n",
       "    <tr>\n",
       "      <th>0</th>\n",
       "      <td>19</td>\n",
       "      <td>female</td>\n",
       "      <td>27.900</td>\n",
       "      <td>0</td>\n",
       "      <td>yes</td>\n",
       "      <td>southwest</td>\n",
       "      <td>16884.92400</td>\n",
       "    </tr>\n",
       "    <tr>\n",
       "      <th>1</th>\n",
       "      <td>18</td>\n",
       "      <td>male</td>\n",
       "      <td>33.770</td>\n",
       "      <td>1</td>\n",
       "      <td>no</td>\n",
       "      <td>southeast</td>\n",
       "      <td>1725.55230</td>\n",
       "    </tr>\n",
       "    <tr>\n",
       "      <th>2</th>\n",
       "      <td>28</td>\n",
       "      <td>male</td>\n",
       "      <td>33.000</td>\n",
       "      <td>3</td>\n",
       "      <td>no</td>\n",
       "      <td>southeast</td>\n",
       "      <td>4449.46200</td>\n",
       "    </tr>\n",
       "    <tr>\n",
       "      <th>3</th>\n",
       "      <td>33</td>\n",
       "      <td>male</td>\n",
       "      <td>22.705</td>\n",
       "      <td>0</td>\n",
       "      <td>no</td>\n",
       "      <td>northwest</td>\n",
       "      <td>21984.47061</td>\n",
       "    </tr>\n",
       "    <tr>\n",
       "      <th>4</th>\n",
       "      <td>32</td>\n",
       "      <td>male</td>\n",
       "      <td>28.880</td>\n",
       "      <td>0</td>\n",
       "      <td>no</td>\n",
       "      <td>northwest</td>\n",
       "      <td>3866.85520</td>\n",
       "    </tr>\n",
       "    <tr>\n",
       "      <th>...</th>\n",
       "      <td>...</td>\n",
       "      <td>...</td>\n",
       "      <td>...</td>\n",
       "      <td>...</td>\n",
       "      <td>...</td>\n",
       "      <td>...</td>\n",
       "      <td>...</td>\n",
       "    </tr>\n",
       "    <tr>\n",
       "      <th>1333</th>\n",
       "      <td>50</td>\n",
       "      <td>male</td>\n",
       "      <td>30.970</td>\n",
       "      <td>3</td>\n",
       "      <td>no</td>\n",
       "      <td>northwest</td>\n",
       "      <td>10600.54830</td>\n",
       "    </tr>\n",
       "    <tr>\n",
       "      <th>1334</th>\n",
       "      <td>18</td>\n",
       "      <td>female</td>\n",
       "      <td>31.920</td>\n",
       "      <td>0</td>\n",
       "      <td>no</td>\n",
       "      <td>northeast</td>\n",
       "      <td>2205.98080</td>\n",
       "    </tr>\n",
       "    <tr>\n",
       "      <th>1335</th>\n",
       "      <td>18</td>\n",
       "      <td>female</td>\n",
       "      <td>36.850</td>\n",
       "      <td>0</td>\n",
       "      <td>no</td>\n",
       "      <td>southeast</td>\n",
       "      <td>1629.83350</td>\n",
       "    </tr>\n",
       "    <tr>\n",
       "      <th>1336</th>\n",
       "      <td>21</td>\n",
       "      <td>female</td>\n",
       "      <td>25.800</td>\n",
       "      <td>0</td>\n",
       "      <td>no</td>\n",
       "      <td>southwest</td>\n",
       "      <td>2007.94500</td>\n",
       "    </tr>\n",
       "    <tr>\n",
       "      <th>1337</th>\n",
       "      <td>61</td>\n",
       "      <td>female</td>\n",
       "      <td>29.070</td>\n",
       "      <td>0</td>\n",
       "      <td>yes</td>\n",
       "      <td>northwest</td>\n",
       "      <td>29141.36030</td>\n",
       "    </tr>\n",
       "  </tbody>\n",
       "</table>\n",
       "<p>1338 rows × 7 columns</p>\n",
       "</div>"
      ],
      "text/plain": [
       "      age     sex     bmi  children smoker     region      charges\n",
       "0      19  female  27.900         0    yes  southwest  16884.92400\n",
       "1      18    male  33.770         1     no  southeast   1725.55230\n",
       "2      28    male  33.000         3     no  southeast   4449.46200\n",
       "3      33    male  22.705         0     no  northwest  21984.47061\n",
       "4      32    male  28.880         0     no  northwest   3866.85520\n",
       "...   ...     ...     ...       ...    ...        ...          ...\n",
       "1333   50    male  30.970         3     no  northwest  10600.54830\n",
       "1334   18  female  31.920         0     no  northeast   2205.98080\n",
       "1335   18  female  36.850         0     no  southeast   1629.83350\n",
       "1336   21  female  25.800         0     no  southwest   2007.94500\n",
       "1337   61  female  29.070         0    yes  northwest  29141.36030\n",
       "\n",
       "[1338 rows x 7 columns]"
      ]
     },
     "execution_count": 36,
     "metadata": {},
     "output_type": "execute_result"
    }
   ],
   "source": [
    "import pandas as pd\n",
    "import matplotlib.pyplot as plt\n",
    "import tensorflow as tf\n",
    "\n",
    "insurance = pd.read_csv(\"https://raw.githubusercontent.com/stedy/Machine-Learning-with-R-datasets/master/insurance.csv\")\n",
    "insurance"
   ]
  },
  {
   "cell_type": "code",
   "execution_count": 37,
   "id": "3a95cf5e",
   "metadata": {},
   "outputs": [],
   "source": [
    "from sklearn.compose import make_column_transformer\n",
    "from sklearn.preprocessing import MinMaxScaler, OneHotEncoder\n",
    "\n",
    "# Create column transformer (this will help us normalize/preprocess our data)\n",
    "ct = make_column_transformer(\n",
    "    (MinMaxScaler(), [\"age\", \"bmi\", \"children\"]), # get all values between 0 and 1\n",
    "    (OneHotEncoder(handle_unknown=\"ignore\"), [\"sex\", \"smoker\", \"region\"])\n",
    ")\n",
    "\n",
    "# Create X & y\n",
    "X = insurance.drop(\"charges\", axis=1)\n",
    "y = insurance[\"charges\"]\n",
    "\n",
    "# Build our train and test sets (use random state to ensure same split as before)\n",
    "X_train, X_test, y_train, y_test = train_test_split(X, y, test_size=0.2, random_state=42)\n",
    "\n",
    "# Fit column transformer on the training data only (doing so on test data would result in data leakage)\n",
    "ct.fit(X_train)\n",
    "\n",
    "# Transform training and test data with normalization (MinMaxScalar) and one hot encoding (OneHotEncoder)\n",
    "X_train_normal = ct.transform(X_train)\n",
    "X_test_normal = ct.transform(X_test)"
   ]
  },
  {
   "cell_type": "code",
   "execution_count": 38,
   "id": "a44bf703",
   "metadata": {},
   "outputs": [
    {
     "data": {
      "text/plain": [
       "age                19\n",
       "sex            female\n",
       "bmi              27.9\n",
       "children            0\n",
       "smoker            yes\n",
       "region      southwest\n",
       "Name: 0, dtype: object"
      ]
     },
     "execution_count": 38,
     "metadata": {},
     "output_type": "execute_result"
    }
   ],
   "source": [
    "# Non-normalized and non-one-hot encoded data example\n",
    "X_train.loc[0]"
   ]
  },
  {
   "cell_type": "code",
   "execution_count": 39,
   "id": "0d6efd0f",
   "metadata": {},
   "outputs": [
    {
     "data": {
      "text/plain": [
       "array([0.60869565, 0.10734463, 0.4       , 1.        , 0.        ,\n",
       "       1.        , 0.        , 0.        , 1.        , 0.        ,\n",
       "       0.        ])"
      ]
     },
     "execution_count": 39,
     "metadata": {},
     "output_type": "execute_result"
    }
   ],
   "source": [
    "# Normalized and one-hot encoded example\n",
    "X_train_normal[0]"
   ]
  },
  {
   "cell_type": "code",
   "execution_count": 51,
   "id": "32067f07",
   "metadata": {},
   "outputs": [],
   "source": [
    "# Set random seed\n",
    "tf.random.set_seed(42)\n",
    "\n",
    "# Build the model (3 layers, 100, 10, 1 units)\n",
    "insurance_model_3 = tf.keras.Sequential([\n",
    "  tf.keras.layers.Dense(100, activation='linear'),\n",
    "  tf.keras.layers.Dense(10),\n",
    "  tf.keras.layers.Dense(1)\n",
    "])\n",
    "\n",
    "# Compile the model\n",
    "insurance_model_3.compile(loss=tf.keras.losses.mae,\n",
    "                          optimizer=tf.keras.optimizers.Adam(learning_rate=0.01),\n",
    "                          metrics=['mae'])\n",
    "\n",
    "# Fit the model for 200 epochs (same as insurance_model_2)\n",
    "history_2 = insurance_model_3.fit(X_train_normal, y_train, epochs=200, verbose=0) "
   ]
  },
  {
   "cell_type": "code",
   "execution_count": 52,
   "id": "4d9db91e",
   "metadata": {},
   "outputs": [
    {
     "name": "stdout",
     "output_type": "stream",
     "text": [
      "9/9 [==============================] - 0s 1ms/step - loss: 3162.5098 - mae: 3162.5098\n"
     ]
    }
   ],
   "source": [
    "# Evaulate 3rd model\n",
    "insurance_model_3_loss, insurance_model_3_mae = insurance_model_3.evaluate(X_test_normal, y_test)\n"
   ]
  },
  {
   "cell_type": "code",
   "execution_count": 56,
   "id": "32ad0ea5",
   "metadata": {},
   "outputs": [
    {
     "name": "stdout",
     "output_type": "stream",
     "text": [
      "9/9 [==============================] - 0s 1ms/step\n"
     ]
    }
   ],
   "source": [
    "# Predicting the proce of health insurances for each data in the X_test set\n",
    "y_pred = insurance_model_3.predict(X_test_normal)\n"
   ]
  },
  {
   "cell_type": "code",
   "execution_count": 55,
   "id": "818d3c5a",
   "metadata": {},
   "outputs": [],
   "source": [
    "y_test_np = np.array(y_test)"
   ]
  },
  {
   "cell_type": "code",
   "execution_count": 57,
   "id": "5ef0c0c6",
   "metadata": {},
   "outputs": [
    {
     "data": {
      "text/plain": [
       "array([[False, False, False, ..., False, False, False],\n",
       "       [False, False, False, ..., False, False, False],\n",
       "       [False, False, False, ..., False, False, False],\n",
       "       ...,\n",
       "       [False, False, False, ..., False, False, False],\n",
       "       [False, False, False, ..., False, False, False],\n",
       "       [False, False, False, ..., False, False, False]])"
      ]
     },
     "execution_count": 57,
     "metadata": {},
     "output_type": "execute_result"
    }
   ],
   "source": [
    "np.isclose(y_test_np,y_pred)"
   ]
  },
  {
   "cell_type": "code",
   "execution_count": 48,
   "id": "df996cc7",
   "metadata": {},
   "outputs": [],
   "source": [
    "def plot_loss_curves(history):\n",
    "  \"\"\"\n",
    "  Returns separate loss curves for training and validation metrics.\n",
    "  Args:\n",
    "    history: TensorFlow model History object (see: https://www.tensorflow.org/api_docs/python/tf/keras/callbacks/History)\n",
    "  \"\"\" \n",
    "  loss = history.history['loss']\n",
    "\n",
    "  mae = history.history['mae']\n",
    "\n",
    "  epochs = range(len(history.history['loss']))\n",
    "\n",
    "  # Plot loss\n",
    "  plt.plot(epochs, loss, label='training_loss')\n",
    "  plt.plot(epochs, mae, label='training_mae')\n",
    "  plt.title('MAE & Loss')\n",
    "  plt.xlabel('Epochs')\n",
    "  plt.legend();\n"
   ]
  },
  {
   "cell_type": "code",
   "execution_count": 47,
   "id": "05b81f69",
   "metadata": {},
   "outputs": [
    {
     "data": {
      "image/png": "[encoded data removed]",
      "text/plain": [
       "<Figure size 432x288 with 1 Axes>"
      ]
     },
     "metadata": {
      "needs_background": "light"
     },
     "output_type": "display_data"
    }
   ],
   "source": [
    "plot_loss_curves(history_2)"
   ]
  },
  {
   "cell_type": "code",
   "execution_count": null,
   "id": "f17c7501",
   "metadata": {},
   "outputs": [],
   "source": []
  }
 ],
 "metadata": {
  "kernelspec": {
   "display_name": "Python 3 (ipykernel)",
   "language": "python",
   "name": "python3"
  },
  "language_info": {
   "codemirror_mode": {
    "name": "ipython",
    "version": 3
   },
   "file_extension": ".py",
   "mimetype": "text/x-python",
   "name": "python",
   "nbconvert_exporter": "python",
   "pygments_lexer": "ipython3",
   "version": "3.9.7"
  }
 },
 "nbformat": 4,
 "nbformat_minor": 5
}
